{
 "cells": [
  {
   "cell_type": "markdown",
   "source": [
    "# Investigate behavior of `curry` and `partial`"
   ],
   "metadata": {
    "collapsed": false
   }
  },
  {
   "cell_type": "code",
   "metadata": {
    "collapsed": true,
    "pycharm": {
     "name": "#%%\n"
    }
   },
   "source": [
    "from toolz.curried import *"
   ],
   "execution_count": null,
   "outputs": []
  },
  {
   "cell_type": "code",
   "execution_count": null,
   "outputs": [],
   "source": [
    "def clump3(a, b, c):\n",
    "    return a, b, c"
   ],
   "metadata": {
    "collapsed": false,
    "pycharm": {
     "name": "#%%\n"
    }
   }
  },
  {
   "cell_type": "code",
   "execution_count": null,
   "outputs": [],
   "source": [
    "@curry\n",
    "def curried_clump3(a, b, c):\n",
    "    return a, b, c"
   ],
   "metadata": {
    "collapsed": false,
    "pycharm": {
     "name": "#%%\n"
    }
   }
  },
  {
   "cell_type": "code",
   "execution_count": null,
   "outputs": [],
   "source": [
    "partial1_clump3=partial(clump3, 1)\n",
    "partial12_clump3=partial(clump3, 1, 2)"
   ],
   "metadata": {
    "collapsed": false,
    "pycharm": {
     "name": "#%%\n"
    }
   }
  },
  {
   "cell_type": "code",
   "execution_count": null,
   "outputs": [],
   "source": [
    "print(f'clump3(1, 2, 3)={clump3(1, 2, 3)}')\n",
    "print(f'clump3(3, 1, 2)={clump3(3, 1, 2)}')\n",
    "print()\n",
    "print(f'curried_clump3(1)(2)(3)={curried_clump3(1)(2)(3)}')\n",
    "print(f'curried_clump3(1)(2)(3)={curried_clump3(1)(2)(3)}')\n",
    "print()\n",
    "print(f'curried_clump3(3, 1)(2)={curried_clump3(3, 1)(2)}')"
   ],
   "metadata": {
    "collapsed": false,
    "pycharm": {
     "name": "#%%\n"
    }
   }
  },
  {
   "cell_type": "code",
   "execution_count": null,
   "outputs": [],
   "source": [
    "print()\n",
    "print(f'partial1_clump3(2, 3)={partial1_clump3(2, 3)}')\n",
    "print(f'partial12_clump3(2, 3)={partial12_clump3(3)}')"
   ],
   "metadata": {
    "collapsed": false,
    "pycharm": {
     "name": "#%%\n"
    }
   }
  },
  {
   "cell_type": "code",
   "execution_count": null,
   "outputs": [],
   "source": [
    "\n"
   ],
   "metadata": {
    "collapsed": false,
    "pycharm": {
     "name": "#%%\n"
    }
   }
  }
 ],
 "metadata": {
  "kernelspec": {
   "display_name": "Python 3",
   "language": "python",
   "name": "python3"
  },
  "language_info": {
   "codemirror_mode": {
    "name": "ipython",
    "version": 2
   },
   "file_extension": ".py",
   "mimetype": "text/x-python",
   "name": "python",
   "nbconvert_exporter": "python",
   "pygments_lexer": "ipython2",
   "version": "2.7.6"
  }
 },
 "nbformat": 4,
 "nbformat_minor": 0
}